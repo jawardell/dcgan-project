{
 "cells": [
  {
   "cell_type": "markdown",
   "id": "1bcf722c-e826-4077-adc2-a077a99b327e",
   "metadata": {},
   "source": [
    "# Imports"
   ]
  },
  {
   "cell_type": "code",
   "execution_count": 128,
   "id": "a54452d2-665f-46fb-8a32-97858054090e",
   "metadata": {},
   "outputs": [],
   "source": [
    "import torch\n",
    "import torch.nn as nn\n",
    "import torchvision.transforms as transforms\n",
    "from torchvision.datasets import STL10\n",
    "from torch.utils.data import DataLoader\n",
    "import numpy as np\n",
    "import matplotlib.pyplot as plt"
   ]
  },
  {
   "cell_type": "markdown",
   "id": "17922339-32b3-4f56-b452-622a153ab6fd",
   "metadata": {},
   "source": [
    "# Parameters"
   ]
  },
  {
   "cell_type": "code",
   "execution_count": 130,
   "id": "97f24c16-54ae-4a8a-a250-525d8e9d94bf",
   "metadata": {},
   "outputs": [],
   "source": [
    "# Num Image Channels\n",
    "nc = 3\n",
    "\n",
    "\n",
    "# Size of feature maps in discriminator\n",
    "ndf = 96\n",
    "\n",
    "# Size of feature maps in generator\n",
    "ngf = 96\n",
    "\n",
    "# Batch Size\n",
    "batch_size = 64\n",
    "\n",
    "# Number of GPUs available. Use 0 for CPU mode.\n",
    "ngpu = 1\n",
    "\n",
    "# Decide which device we want to run on\n",
    "device = torch.device(\"cuda:0\" if (torch.cuda.is_available() and ngpu > 0) else \"cpu\")"
   ]
  },
  {
   "cell_type": "markdown",
   "id": "5f41574d-7d11-4aab-a2cc-921e9c85d6c4",
   "metadata": {},
   "source": [
    "# Load the Dataset"
   ]
  },
  {
   "cell_type": "code",
   "execution_count": 131,
   "id": "db9463b2-c035-4d2b-bab1-110f8d55169e",
   "metadata": {},
   "outputs": [
    {
     "name": "stdout",
     "output_type": "stream",
     "text": [
      "Files already downloaded and verified\n"
     ]
    }
   ],
   "source": [
    "# Create a new transformation that resizes the images\n",
    "\n",
    "# Create a new transformation that resizes the images\n",
    "transform = transforms.Compose([\n",
    "    transforms.ToTensor(),\n",
    "    transforms.Normalize((0.5, 0.5, 0.5), (0.5, 0.5, 0.5)),\n",
    "])\n",
    "\n",
    "# Load STL-10 dataset\n",
    "train_dataset = STL10(root='./data', split='train', transform=transform, download=True)\n",
    "train_loader = DataLoader(train_dataset, batch_size=batch_size, shuffle=True)"
   ]
  },
  {
   "cell_type": "markdown",
   "id": "60b4dad4-8076-4695-9df7-64075fccb12c",
   "metadata": {},
   "source": [
    "# Model Definition"
   ]
  },
  {
   "cell_type": "code",
   "execution_count": 132,
   "id": "9272130b-478a-4c1f-b362-523b353bc42f",
   "metadata": {},
   "outputs": [],
   "source": [
    "class Encoder(nn.Module):\n",
    "    def __init__(self, ngpu, dim_z, num_classes):\n",
    "        super(Encoder, self).__init__()\n",
    "        self.ngpu = ngpu\n",
    "        nc = 3  # Number of input channels for the 96x96x3 image\n",
    "        self.main = nn.Sequential(\n",
    "            # input is (nc) x 96 x 96\n",
    "            nn.Conv2d(nc, ndf, 4, 2, 1, bias=False),\n",
    "            nn.LeakyReLU(0.2, inplace=True),\n",
    "            # state size: (ndf) x 48 x 48\n",
    "            nn.Conv2d(ndf, ndf * 2, 4, 2, 1, bias=False),\n",
    "            nn.BatchNorm2d(ndf * 2),\n",
    "            nn.LeakyReLU(0.2, inplace=True),\n",
    "            # state size: (ndf*2) x 24 x 24\n",
    "            nn.Conv2d(ndf * 2, ndf * 4, 4, 2, 1, bias=False),\n",
    "            nn.BatchNorm2d(ndf * 4),\n",
    "            nn.LeakyReLU(0.2, inplace=True),\n",
    "            # state size: (ndf*4) x 12 x 12\n",
    "            nn.Conv2d(ndf * 4, ndf * 8, 4, 2, 1, bias=False),\n",
    "            nn.BatchNorm2d(ndf * 8),\n",
    "            nn.LeakyReLU(0.2, inplace=True),\n",
    "            # state size: (ndf*8) x 6 x 6\n",
    "            nn.Conv2d(ndf * 8, dim_z, 6, 1, 0, bias=False)\n",
    "        )\n",
    "        self.fc = nn.Linear(dim_z, num_classes)\n",
    "\n",
    "    def forward(self, input):\n",
    "        z = self.main(input)\n",
    "        z = z.view(input.size(0), -1)  # Flatten z to (batch_size, dim_z)\n",
    "        c = self.fc(z)\n",
    "        return c"
   ]
  },
  {
   "cell_type": "markdown",
   "id": "4c70ff98-051a-4182-a15b-2b03df37301d",
   "metadata": {},
   "source": [
    "# Load Finetuned Weights"
   ]
  },
  {
   "cell_type": "code",
   "execution_count": 133,
   "id": "b20dec3d-80f2-4fae-aff9-1afa07857f03",
   "metadata": {},
   "outputs": [
    {
     "data": {
      "text/plain": [
       "Encoder(\n",
       "  (main): Sequential(\n",
       "    (0): Conv2d(3, 96, kernel_size=(4, 4), stride=(2, 2), padding=(1, 1), bias=False)\n",
       "    (1): LeakyReLU(negative_slope=0.2, inplace=True)\n",
       "    (2): Conv2d(96, 192, kernel_size=(4, 4), stride=(2, 2), padding=(1, 1), bias=False)\n",
       "    (3): BatchNorm2d(192, eps=1e-05, momentum=0.1, affine=True, track_running_stats=True)\n",
       "    (4): LeakyReLU(negative_slope=0.2, inplace=True)\n",
       "    (5): Conv2d(192, 384, kernel_size=(4, 4), stride=(2, 2), padding=(1, 1), bias=False)\n",
       "    (6): BatchNorm2d(384, eps=1e-05, momentum=0.1, affine=True, track_running_stats=True)\n",
       "    (7): LeakyReLU(negative_slope=0.2, inplace=True)\n",
       "    (8): Conv2d(384, 768, kernel_size=(4, 4), stride=(2, 2), padding=(1, 1), bias=False)\n",
       "    (9): BatchNorm2d(768, eps=1e-05, momentum=0.1, affine=True, track_running_stats=True)\n",
       "    (10): LeakyReLU(negative_slope=0.2, inplace=True)\n",
       "    (11): Conv2d(768, 64, kernel_size=(6, 6), stride=(1, 1), bias=False)\n",
       "  )\n",
       "  (fc): Linear(in_features=64, out_features=10, bias=True)\n",
       ")"
      ]
     },
     "execution_count": 133,
     "metadata": {},
     "output_type": "execute_result"
    }
   ],
   "source": [
    "model = Encoder(ngpu=0, dim_z=64, num_classes=10).to(device)\n",
    "PATH='finetuned_encoder_weights_da_0.0001_128_0.0004.pth'\n",
    "model.main.load_state_dict(torch.load(PATH))\n",
    "model"
   ]
  },
  {
   "cell_type": "markdown",
   "id": "437b03ab-e1b7-4a08-952b-ee82f096b534",
   "metadata": {},
   "source": [
    "# Running the Model"
   ]
  },
  {
   "cell_type": "code",
   "execution_count": 174,
   "id": "d73f8104-1c72-4869-9379-9157accba585",
   "metadata": {},
   "outputs": [
    {
     "name": "stdout",
     "output_type": "stream",
     "text": [
      "true label- ship\n",
      "predicted label- ship\n"
     ]
    },
    {
     "data": {
      "image/png": "[encoded data removed]",
      "text/plain": [
       "<Figure size 640x480 with 1 Axes>"
      ]
     },
     "metadata": {},
     "output_type": "display_data"
    }
   ],
   "source": [
    "for images, labels in train_loader:\n",
    "    data = images[0]\n",
    "    label = labels[0]\n",
    "    break  \n",
    "    \n",
    "class_names = [\"airplane\", \"bird\", \"car\", \"cat\", \"deer\", \"dog\", \"horse\", \"monkey\", \"ship\", \"truck\"]\n",
    "image = data.numpy().transpose((1, 2, 0))\n",
    "image = np.clip(image, 0, 1)\n",
    "plt.imshow(image)\n",
    "print(f'true label- {class_names[label]}')\n",
    "\n",
    "\n",
    "\n",
    "\n",
    "model.eval()\n",
    "pred = ''\n",
    "with torch.no_grad():\n",
    "    data = data.unsqueeze(0) \n",
    "    data = data.to(device)\n",
    "\n",
    "    out = model(data)\n",
    "    pred = class_names[torch.argmax(out.data, dim=1).item()]\n",
    "\n",
    "print(f'predicted label- {pred}')"
   ]
  },
  {
   "cell_type": "code",
   "execution_count": 175,
   "id": "c16a13ad-d459-4e71-af54-275a571e6638",
   "metadata": {},
   "outputs": [
    {
     "name": "stdout",
     "output_type": "stream",
     "text": [
      "Total convolution layers: 5\n"
     ]
    }
   ],
   "source": [
    "model_weights = []\n",
    "conv_layers = []\n",
    "model_children = list(model.main.children())  \n",
    "\n",
    "counter = 0\n",
    "for i in range(len(model_children)):\n",
    "    if isinstance(model_children[i], nn.Conv2d):\n",
    "        counter += 1\n",
    "        model_weights.append(model_children[i].weight)\n",
    "        conv_layers.append(model_children[i])\n",
    "\n",
    "print(f\"Total convolution layers: {counter}\")"
   ]
  },
  {
   "cell_type": "code",
   "execution_count": 176,
   "id": "8019b556-9249-4365-b9ff-285210887677",
   "metadata": {},
   "outputs": [
    {
     "data": {
      "image/png": "[encoded data removed]",
      "text/plain": [
       "<Figure size 600x600 with 1 Axes>"
      ]
     },
     "metadata": {},
     "output_type": "display_data"
    },
    {
     "data": {
      "image/png": "[encoded data removed]",
      "text/plain": [
       "<Figure size 600x600 with 1 Axes>"
      ]
     },
     "metadata": {},
     "output_type": "display_data"
    },
    {
     "data": {
      "image/png": "[encoded data removed]",
      "text/plain": [
       "<Figure size 600x600 with 1 Axes>"
      ]
     },
     "metadata": {},
     "output_type": "display_data"
    },
    {
     "data": {
      "image/png": "[encoded data removed]",
      "text/plain": [
       "<Figure size 600x600 with 1 Axes>"
      ]
     },
     "metadata": {},
     "output_type": "display_data"
    }
   ],
   "source": [
    "import matplotlib.pyplot as plt\n",
    "\n",
    "data = data.squeeze(0)  \n",
    "data = data.squeeze(-1)  \n",
    "\n",
    "outputs = []\n",
    "\n",
    "\n",
    "for layer in conv_layers:\n",
    "    data = layer(data)\n",
    "    outputs.append(data)\n",
    "\n",
    "num_layers = len(outputs)-1\n",
    "\n",
    "for idx in range(num_layers):\n",
    "    fm_numpy = outputs[idx].squeeze(0).detach().cpu().numpy()\n",
    "    plt.figure(figsize=(6, 6))\n",
    "    plt.imshow(fm_numpy[0], cmap='viridis')\n",
    "    plt.axis('off')\n",
    "    plt.show()"
   ]
  },
  {
   "cell_type": "code",
   "execution_count": null,
   "id": "b128cf57-fd67-4737-b4d4-ea16b2677e6a",
   "metadata": {},
   "outputs": [],
   "source": []
  }
 ],
 "metadata": {
  "kernelspec": {
   "display_name": "Python 3 (ipykernel)",
   "language": "python",
   "name": "python3"
  },
  "language_info": {
   "codemirror_mode": {
    "name": "ipython",
    "version": 3
   },
   "file_extension": ".py",
   "mimetype": "text/x-python",
   "name": "python",
   "nbconvert_exporter": "python",
   "pygments_lexer": "ipython3",
   "version": "3.11.5"
  }
 },
 "nbformat": 4,
 "nbformat_minor": 5
}
